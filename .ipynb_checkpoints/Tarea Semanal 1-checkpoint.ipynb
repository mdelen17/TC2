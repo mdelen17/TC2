{
 "cells": [
  {
   "cell_type": "code",
   "execution_count": 12,
   "id": "d4fccdfd-fe58-4674-8c10-8938d04e186d",
   "metadata": {},
   "outputs": [],
   "source": [
    "# Módulos externos\n",
    "\n",
    "import numpy as np\n",
    "import matplotlib as mpl\n",
    "from matplotlib import pyplot as plt\n",
    "# módulo de SciPy\n",
    "\n",
    "from scipy import signal as sig\n",
    "\n",
    "\n",
    "# Esta parte de código la agregamos SOLO en los notebooks para fijar el estilo de los gráficos.\n",
    "fig_sz_x = 13\n",
    "fig_sz_y = 7\n",
    "fig_dpi = 80 # dpi\n",
    "fig_font_size = 13\n",
    "\n",
    "mpl.rcParams['figure.figsize'] = (fig_sz_x, fig_sz_y)\n",
    "mpl.rcParams['figure.dpi'] = fig_dpi\n",
    "plt.rcParams.update({'font.size':fig_font_size})\n",
    "\n"
   ]
  },
  {
   "cell_type": "markdown",
   "id": "2649975c-c539-4293-be6b-a9798d8812f6",
   "metadata": {},
   "source": [
    "Importo las funciones de la libreria"
   ]
  },
  {
   "cell_type": "code",
   "execution_count": null,
   "id": "3f503b9c-f95f-4d4d-8189-ad8af4a62459",
   "metadata": {},
   "outputs": [],
   "source": [
    "#Importo funciones de PyTC2\n",
    "from pytc2.sistemas_lineales import analyze_sys, bodePlot, pzmap, pretty_print_bicuad_omegayq\n",
    "from pytc2.general import print_latex, a_equal_b_latex_s\n"
   ]
  },
  {
   "cell_type": "code",
   "execution_count": null,
   "id": "43ed9983-0c50-4ac1-81dd-d921f4f8db2e",
   "metadata": {},
   "outputs": [],
   "source": [
    "# Comienzo de la simulación\n",
    "\n",
    "Q = np.sqrt(2)/2\n",
    "w0 = 1\n",
    "\n",
    "# Cargamos la funcion transferencia como vectores de sus coeficientes.\n",
    "\n",
    "num = np.array([ w0**2 ])\n",
    "den = np.array([ 1., w0 / Q, w0**2 ])\n",
    "\n",
    "H1 = sig.TransferFunction( num, den )\n",
    "\n",
    "# mostramos la transferencia construida\n",
    "display(H1)"
   ]
  },
  {
   "cell_type": "code",
   "execution_count": null,
   "id": "77dba627-77d7-4c3d-9ea0-856182f52c7a",
   "metadata": {},
   "outputs": [],
   "source": []
  }
 ],
 "metadata": {
  "kernelspec": {
   "display_name": "Python 3 (ipykernel)",
   "language": "python",
   "name": "python3"
  },
  "language_info": {
   "codemirror_mode": {
    "name": "ipython",
    "version": 3
   },
   "file_extension": ".py",
   "mimetype": "text/x-python",
   "name": "python",
   "nbconvert_exporter": "python",
   "pygments_lexer": "ipython3",
   "version": "3.10.12"
  }
 },
 "nbformat": 4,
 "nbformat_minor": 5
}
