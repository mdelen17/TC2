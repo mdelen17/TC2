{
 "cells": [
  {
   "cell_type": "code",
   "execution_count": 1,
   "id": "b00c8284-ff6c-4f0d-bfe8-ef12bcdb8c65",
   "metadata": {},
   "outputs": [
    {
     "name": "stdout",
     "output_type": "stream",
     "text": [
      "va de nuevo todo este tutorial\n"
     ]
    }
   ],
   "source": [
    "print(\"va de nuevo todo este tutorial\")\n"
   ]
  },
  {
   "cell_type": "code",
   "execution_count": 2,
   "id": "c09b5229-f0ed-4b6e-afce-23e82ae0d6de",
   "metadata": {},
   "outputs": [],
   "source": [
    "a = 4\n",
    "b = 5"
   ]
  },
  {
   "cell_type": "code",
   "execution_count": 3,
   "id": "e267cc27-1b1f-403c-91b2-462f47edb5e9",
   "metadata": {},
   "outputs": [
    {
     "data": {
      "text/plain": [
       "9"
      ]
     },
     "execution_count": 3,
     "metadata": {},
     "output_type": "execute_result"
    }
   ],
   "source": [
    "a + b\n"
   ]
  },
  {
   "cell_type": "code",
   "execution_count": null,
   "id": "719e731f-9b83-4398-82e8-6ad2d136852f",
   "metadata": {},
   "outputs": [],
   "source": []
  }
 ],
 "metadata": {
  "kernelspec": {
   "display_name": "Python 3 (ipykernel)",
   "language": "python",
   "name": "python3"
  },
  "language_info": {
   "codemirror_mode": {
    "name": "ipython",
    "version": 3
   },
   "file_extension": ".py",
   "mimetype": "text/x-python",
   "name": "python",
   "nbconvert_exporter": "python",
   "pygments_lexer": "ipython3",
   "version": "3.10.12"
  }
 },
 "nbformat": 4,
 "nbformat_minor": 5
}
