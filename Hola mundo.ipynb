{
 "cells": [
  {
   "cell_type": "markdown",
   "id": "8d6dcfc5-ef3b-42da-b4a4-36dc40be152f",
   "metadata": {},
   "source": [
    "# Impedancia de entrada\n"
   ]
  },
  {
   "cell_type": "markdown",
   "id": "05fb4549-b10c-4801-b068-9182edfe215c",
   "metadata": {},
   "source": [
    "En el siguiente notebook, propongo calcular la impedancia de entrada de un circuito dado, utilizando en principio un amplificador operacional ideal y luego pasar a un modelo más real del mismo."
   ]
  },
  {
   "cell_type": "markdown",
   "id": "d954ed9d-6356-421a-bf85-fdbd63099583",
   "metadata": {},
   "source": [
    "## Circuito propuesto\n",
    "<img src=\"./Primer Circuito.jpg\" style=\"margin-left:auto; margin-right:auto\"/>"
   ]
  },
  {
   "cell_type": "markdown",
   "id": "39e3d0a6-678b-4aff-bd5c-c048a998d30a",
   "metadata": {},
   "source": [
    "### Análisis ideal\n",
    "Al estar trabajando con un amplificador operacional (OpAmp) ideal, podemos asegurar que sus dos entradas, \"+\" y \"-\" están al mismo potencial. Por esta razón podemos decir que en la entrada inversora tendremos 0v, entonces la impedancia de entrada en este caso no es más que el valor que dado a \"R1\".\n",
    "\\begin {equation}\n",
    "    Zin = \\frac{V1}{Iin} = R1\n",
    "\\end {equation}\n",
    "### Análisis real\n",
    "En este caso ya no podemos asegurar que sus entradas tengan el mismo potencial, dado que la ganancia del amplificador no es infinita y está expresada por la siguiente fórmula:\n",
    "\\begin {equation}\n",
    "[1]-->A(S) = \\frac{wt}{S}\n",
    "\\end {equation}\n",
    "Dado que la entrada no inversora del operacional se encuentra a 0v, la tensión de salida \"V2\" queda definida por la siguiente ecuación:\n",
    "\\begin {equation}\n",
    "[2]-->V2 = (0 - Vx).A(S)\n",
    "\\end {equation}\n",
    "Donde \"Vx\" es el nodo situado en la entrada inversora del OpAmp. \n",
    "De la ecuación [2] podemos despejar \"V2\" en función de \"Vx\" y \"A(S)\".\n",
    "\\begin {equation}\n",
    "[3]-->Vx = -(V2).A(S)\n",
    "\\end {equation}\n",
    "Por otro lado, sabemos que la impedancia de entrada del amplificador es muy grande y por esta razón, no entra corriente en el, por lo tanto toda la corriente que circule por \"R1\" es exactamente la misma que circula por \"R2\".\n",
    "\\begin {equation}\n",
    "[4]-->IR1 = \\frac{V1-Vx}{R1} = \\frac{Vx-V2}{R2} = IR2 = Iin\n",
    "\\end {equation}\n",
    "Si despejamos \"Vx\" en función de \"V1\", \"Iin\" y \"R1\" y reemplazamos las ecuaciones [5], [3] y [1] en [4] obtenemos:\n",
    "\\begin {equation}\n",
    "[5]-->Vx = V1 + (-Iin).R1\n",
    "\\end {equation}\n",
    "\n",
    "\\begin {equation}\n",
    "[6]--> Zin(S) = \\frac{V1}{Iin} = \\frac{S.(R1+R2) + R1.wt}{(S.R2)+ wt}\n",
    "\\end {equation}\n",
    "\n",
    "\n"
   ]
  },
  {
   "cell_type": "code",
   "execution_count": null,
   "id": "9573ba83-d570-4e71-a823-4c5acc20288c",
   "metadata": {},
   "outputs": [],
   "source": []
  }
 ],
 "metadata": {
  "kernelspec": {
   "display_name": "Python 3 (ipykernel)",
   "language": "python",
   "name": "python3"
  },
  "language_info": {
   "codemirror_mode": {
    "name": "ipython",
    "version": 3
   },
   "file_extension": ".py",
   "mimetype": "text/x-python",
   "name": "python",
   "nbconvert_exporter": "python",
   "pygments_lexer": "ipython3",
   "version": "3.10.12"
  }
 },
 "nbformat": 4,
 "nbformat_minor": 5
}
